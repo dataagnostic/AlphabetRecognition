{
 "cells": [
  {
   "cell_type": "code",
   "execution_count": 1,
   "id": "07c206e0",
   "metadata": {},
   "outputs": [],
   "source": [
    "from keras.models import Sequential, load_model\n",
    "from keras.layers import Dense, Dropout, Flatten\n",
    "from keras.layers import Conv2D, MaxPooling2D, BatchNormalization\n",
    "from keras.preprocessing.image import ImageDataGenerator\n",
    "from keras.callbacks import ModelCheckpoint\n",
    "import numpy as np\n",
    "from mnist import MNIST\n",
    "from sklearn.model_selection import train_test_split\n",
    "from matplotlib.colors import ListedColormap\n",
    "import seaborn as sns\n",
    "import matplotlib.pyplot as plt\n",
    "%matplotlib inline"
   ]
  },
  {
   "cell_type": "code",
   "execution_count": 2,
   "id": "bdc144fb",
   "metadata": {},
   "outputs": [],
   "source": [
    "emnist_data = MNIST(path='data/', return_type='numpy')\n",
    "emnist_data.select_emnist('letters')\n",
    "x, y = emnist_data.load_training()"
   ]
  },
  {
   "cell_type": "code",
   "execution_count": 3,
   "id": "fe4a222f",
   "metadata": {},
   "outputs": [
    {
     "name": "stdout",
     "output_type": "stream",
     "text": [
      "(124800, 784)\n",
      "(124800,)\n"
     ]
    }
   ],
   "source": [
    "print(x.shape)\n",
    "print(y.shape)"
   ]
  },
  {
   "cell_type": "code",
   "execution_count": 4,
   "id": "a33f5203",
   "metadata": {},
   "outputs": [],
   "source": [
    "x = x.reshape(124800, 28, 28, 1)\n",
    "#y = y.reshape(124800, 1)"
   ]
  },
  {
   "cell_type": "code",
   "execution_count": 5,
   "id": "0cd59340",
   "metadata": {},
   "outputs": [
    {
     "data": {
      "text/plain": [
       "array([ 1,  2,  3,  4,  5,  6,  7,  8,  9, 10, 11, 12, 13, 14, 15, 16, 17,\n",
       "       18, 19, 20, 21, 22, 23, 24, 25, 26], dtype=uint8)"
      ]
     },
     "execution_count": 5,
     "metadata": {},
     "output_type": "execute_result"
    }
   ],
   "source": [
    "np.unique(y)"
   ]
  },
  {
   "cell_type": "code",
   "execution_count": 6,
   "id": "68bbcdec",
   "metadata": {},
   "outputs": [
    {
     "name": "stdout",
     "output_type": "stream",
     "text": [
      "[ 0  1  2  3  4  5  6  7  8  9 10 11 12 13 14 15 16 17 18 19 20 21 22 23\n",
      " 24 25]\n"
     ]
    }
   ],
   "source": [
    "y = y-1\n",
    "print(np.unique(y))"
   ]
  },
  {
   "cell_type": "code",
   "execution_count": 7,
   "id": "c15d5e4f",
   "metadata": {},
   "outputs": [],
   "source": [
    "x_train, x_test, y_train, y_test = train_test_split(x, y, test_size=0.2, random_state=1)"
   ]
  },
  {
   "cell_type": "code",
   "execution_count": 8,
   "id": "d7fe84cf",
   "metadata": {},
   "outputs": [
    {
     "name": "stdout",
     "output_type": "stream",
     "text": [
      "(99840, 28, 28, 1)\n",
      "(24960, 28, 28, 1)\n"
     ]
    }
   ],
   "source": [
    "print(x_train.shape)\n",
    "print(x_test.shape)"
   ]
  },
  {
   "cell_type": "code",
   "execution_count": 9,
   "id": "81caf72d",
   "metadata": {},
   "outputs": [],
   "source": [
    "data_generator = ImageDataGenerator(rescale=1./255)"
   ]
  },
  {
   "cell_type": "code",
   "execution_count": 95,
   "id": "edc19b0b",
   "metadata": {},
   "outputs": [],
   "source": [
    "batch_size = 64\n",
    "num_classes = 26"
   ]
  },
  {
   "cell_type": "code",
   "execution_count": 96,
   "id": "9753b654",
   "metadata": {},
   "outputs": [],
   "source": [
    "train_set = data_generator.flow(x_train, y_train, batch_size)\n",
    "test_set = data_generator.flow(x_test, y_test, batch_size)"
   ]
  },
  {
   "cell_type": "code",
   "execution_count": 114,
   "id": "6dc24703",
   "metadata": {},
   "outputs": [],
   "source": [
    "model = Sequential()\n",
    "model.add(Conv2D(64, kernel_size=(3, 3), activation='relu', input_shape=(28, 28, 1) ))\n",
    "model.add(Conv2D(64, (3, 3), activation='relu'))\n",
    "model.add(BatchNormalization())\n",
    "model.add(MaxPooling2D(pool_size=(2, 2)))\n",
    "\n",
    "model.add(Conv2D(256, (3, 3), activation='relu'))\n",
    "model.add(Conv2D(256, (3, 3), activation='relu'))\n",
    "model.add(BatchNormalization())\n",
    "model.add(MaxPooling2D(pool_size=(2, 2)))\n",
    "\n",
    "model.add(Conv2D(512, (3, 3), activation='relu'))\n",
    "model.add(BatchNormalization())\n",
    "model.add(MaxPooling2D(pool_size=(2, 2)))\n",
    "\n",
    "model.add(Flatten())\n",
    "\n",
    "model.add(Dense(512, activation='relu'))\n",
    "\n",
    "\n",
    "model.add(Dense(num_classes, activation='softmax'))"
   ]
  },
  {
   "cell_type": "code",
   "execution_count": 115,
   "id": "b2414bd4",
   "metadata": {},
   "outputs": [],
   "source": [
    "model.compile(optimizer='adam', loss='sparse_categorical_crossentropy', metrics=['accuracy'])"
   ]
  },
  {
   "cell_type": "code",
   "execution_count": 116,
   "id": "61bbbc0b",
   "metadata": {},
   "outputs": [],
   "source": [
    "checkpoint = ModelCheckpoint('model/handwriting_bestmodel.hdf5', save_best_only=True, monitor=\"val_accuracy\", mode='max', save_weights_only=False)  "
   ]
  },
  {
   "cell_type": "code",
   "execution_count": 117,
   "id": "6942e22b",
   "metadata": {},
   "outputs": [
    {
     "name": "stdout",
     "output_type": "stream",
     "text": [
      "Epoch 1/20\n",
      "1560/1560 [==============================] - 54s 35ms/step - loss: 0.5210 - accuracy: 0.8412 - val_loss: 0.2393 - val_accuracy: 0.9217\n",
      "Epoch 2/20\n",
      "1560/1560 [==============================] - 59s 38ms/step - loss: 0.1816 - accuracy: 0.9368 - val_loss: 0.1911 - val_accuracy: 0.9359\n",
      "Epoch 3/20\n",
      "1560/1560 [==============================] - 65s 42ms/step - loss: 0.1555 - accuracy: 0.9434 - val_loss: 0.1784 - val_accuracy: 0.9425 - ETA: 1s - loss: 0.1554 - accuracy: 0. - ETA: 1s\n",
      "Epoch 4/20\n",
      "1560/1560 [==============================] - 66s 42ms/step - loss: 0.1362 - accuracy: 0.9492 - val_loss: 0.1988 - val_accuracy: 0.9386\n",
      "Epoch 5/20\n",
      "1560/1560 [==============================] - 66s 42ms/step - loss: 0.1233 - accuracy: 0.9533 - val_loss: 0.1846 - val_accuracy: 0.9408 - loss: 0.1231 - accuracy - ETA: 2s - loss: 0.1232 - accuracy: 0. - ETA: 2s - loss: 0.1232 - ac - ETA: 0s - loss: 0.1233 - ac\n",
      "Epoch 6/20\n",
      "1560/1560 [==============================] - 65s 42ms/step - loss: 0.1063 - accuracy: 0.9599 - val_loss: 0.1881 - val_accuracy: 0.9405\n",
      "Epoch 7/20\n",
      "1560/1560 [==============================] - 68s 43ms/step - loss: 0.0971 - accuracy: 0.9621 - val_loss: 0.1891 - val_accuracy: 0.9401\n",
      "Epoch 8/20\n",
      "1560/1560 [==============================] - 68s 43ms/step - loss: 0.0890 - accuracy: 0.9649 - val_loss: 0.1823 - val_accuracy: 0.9467\n",
      "Epoch 9/20\n",
      "1560/1560 [==============================] - 69s 44ms/step - loss: 0.0803 - accuracy: 0.9669 - val_loss: 0.1961 - val_accuracy: 0.9451\n",
      "Epoch 10/20\n",
      "1560/1560 [==============================] - 72s 46ms/step - loss: 0.0787 - accuracy: 0.9678 - val_loss: 0.2136 - val_accuracy: 0.9444\n",
      "Epoch 11/20\n",
      "1560/1560 [==============================] - 74s 47ms/step - loss: 0.0748 - accuracy: 0.9688 - val_loss: 0.2339 - val_accuracy: 0.9407\n",
      "Epoch 12/20\n",
      "1560/1560 [==============================] - 79s 50ms/step - loss: 0.0658 - accuracy: 0.9730 - val_loss: 0.2378 - val_accuracy: 0.9427\n",
      "Epoch 13/20\n",
      "1560/1560 [==============================] - 79s 51ms/step - loss: 0.0640 - accuracy: 0.9740 - val_loss: 0.2307 - val_accuracy: 0.9436\n",
      "Epoch 14/20\n",
      "1560/1560 [==============================] - 76s 49ms/step - loss: 0.0583 - accuracy: 0.9750 - val_loss: 0.2377 - val_accuracy: 0.9438\n",
      "Epoch 15/20\n",
      "1560/1560 [==============================] - 77s 50ms/step - loss: 0.0589 - accuracy: 0.9752 - val_loss: 0.2423 - val_accuracy: 0.9449\n",
      "Epoch 16/20\n",
      "1560/1560 [==============================] - 77s 49ms/step - loss: 0.0505 - accuracy: 0.9786 - val_loss: 0.2594 - val_accuracy: 0.9438\n",
      "Epoch 17/20\n",
      "1560/1560 [==============================] - 81s 52ms/step - loss: 0.0552 - accuracy: 0.9770 - val_loss: 0.2762 - val_accuracy: 0.9425\n",
      "Epoch 18/20\n",
      "1560/1560 [==============================] - 83s 53ms/step - loss: 0.0509 - accuracy: 0.9779 - val_loss: 0.2836 - val_accuracy: 0.9434\n",
      "Epoch 19/20\n",
      "1560/1560 [==============================] - 71s 46ms/step - loss: 0.0487 - accuracy: 0.9791 - val_loss: 0.2726 - val_accuracy: 0.9441\n",
      "Epoch 20/20\n",
      "1560/1560 [==============================] - 63s 40ms/step - loss: 0.0448 - accuracy: 0.9808 - val_loss: 0.2964 - val_accuracy: 0.9440\n"
     ]
    }
   ],
   "source": [
    "hist= model.fit(train_set,\n",
    "        epochs = 20,\n",
    "        validation_data = test_set,\n",
    "        callbacks=[checkpoint])"
   ]
  },
  {
   "cell_type": "code",
   "execution_count": 118,
   "id": "48712aec",
   "metadata": {},
   "outputs": [
    {
     "name": "stdout",
     "output_type": "stream",
     "text": [
      "Test results (model from the last epoch): [('loss', 0.29641687870025635), ('accuracy', 0.9440304636955261)]\n",
      "Test results (model from the best epoch): [('loss', 0.18233104050159454), ('accuracy', 0.9466747045516968)]\n"
     ]
    }
   ],
   "source": [
    "# Evaluate the model from the last epoch\n",
    "score = model.evaluate(test_set, verbose=0 )\n",
    "print( \"Test results (model from the last epoch):\", [ (model.metrics_names[i], score[i]) for i in range(len(score)) ] )\n",
    "\n",
    "# Load and evaluate the model from the best epoch\n",
    "best_model = load_model('model/handwriting_bestmodel.hdf5', compile=True )\n",
    "score = best_model.evaluate(test_set, verbose=0 )\n",
    "print( \"Test results (model from the best epoch):\", [ (best_model.metrics_names[i], score[i]) for i in range(len(score)) ] )"
   ]
  },
  {
   "cell_type": "code",
   "execution_count": 119,
   "id": "6632eb07",
   "metadata": {},
   "outputs": [
    {
     "data": {
      "image/png": "[encoded data removed]",
      "text/plain": [
       "<Figure size 432x288 with 1 Axes>"
      ]
     },
     "metadata": {
      "needs_background": "light"
     },
     "output_type": "display_data"
    }
   ],
   "source": [
    "# loss\n",
    "plt.plot(hist.history['loss'], label='train loss')\n",
    "plt.plot(hist.history['val_loss'], label='val loss')\n",
    "plt.title('Model loss')\n",
    "plt.legend()\n",
    "plt.show()"
   ]
  },
  {
   "cell_type": "code",
   "execution_count": 120,
   "id": "b0da229e",
   "metadata": {},
   "outputs": [
    {
     "data": {
      "image/png": "[encoded data removed]",
      "text/plain": [
       "<Figure size 432x288 with 1 Axes>"
      ]
     },
     "metadata": {
      "needs_background": "light"
     },
     "output_type": "display_data"
    }
   ],
   "source": [
    "# accuracies\n",
    "plt.plot(hist.history['accuracy'], label='train acc')\n",
    "plt.plot(hist.history['val_accuracy'], label='val acc')\n",
    "plt.title('Model Accuracy')\n",
    "plt.legend()\n",
    "plt.show()"
   ]
  }
 ],
 "metadata": {
  "kernelspec": {
   "display_name": "Python 3 (ipykernel)",
   "language": "python",
   "name": "python3"
  },
  "language_info": {
   "codemirror_mode": {
    "name": "ipython",
    "version": 3
   },
   "file_extension": ".py",
   "mimetype": "text/x-python",
   "name": "python",
   "nbconvert_exporter": "python",
   "pygments_lexer": "ipython3",
   "version": "3.7.3"
  }
 },
 "nbformat": 4,
 "nbformat_minor": 5
}
