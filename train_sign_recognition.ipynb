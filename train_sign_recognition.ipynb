{
 "cells": [
  {
   "cell_type": "markdown",
   "id": "detailed-republic",
   "metadata": {},
   "source": [
    "## Train Sign Recognition"
   ]
  },
  {
   "cell_type": "code",
   "execution_count": 3,
   "id": "western-manner",
   "metadata": {},
   "outputs": [],
   "source": [
    "import cv2\n",
    "import mediapipe as mp\n",
    "import copy\n",
    "import itertools\n",
    "import glob\n",
    "import os\n",
    "import numpy as np\n",
    "from tqdm.notebook import trange, tqdm\n",
    "import pandas as pd\n",
    "from sklearn.model_selection import train_test_split\n",
    "from sklearn.metrics import  confusion_matrix, classification_report\n",
    "from sklearn import metrics\n",
    "import sklearn\n",
    "from keras.models import Sequential\n",
    "from keras.layers import Dense, Activation, Dropout, Flatten\n",
    "import keras\n",
    "from joblib import dump,load # save & load model\n",
    "from keras.models import load_model\n",
    "from sklearn import svm\n",
    "from sklearn.ensemble import RandomForestClassifier\n",
    "from sklearn import preprocessing\n",
    "import tensorflow as tf\n",
    "from matplotlib.colors import ListedColormap\n",
    "import seaborn as sns\n",
    "import matplotlib.pyplot as plt\n",
    "import pickle\n",
    "%matplotlib inline"
   ]
  },
  {
   "cell_type": "code",
   "execution_count": 1,
   "id": "thirty-hearts",
   "metadata": {},
   "outputs": [
    {
     "name": "stdout",
     "output_type": "stream",
     "text": [
      "GPU 0: NVIDIA GeForce GTX 1080 Ti (UUID: GPU-1f6e482f-2053-a9f6-b7ed-5888013cd4db)\n"
     ]
    }
   ],
   "source": [
    "!nvidia-smi -L"
   ]
  },
  {
   "cell_type": "code",
   "execution_count": 4,
   "id": "independent-forwarding",
   "metadata": {},
   "outputs": [
    {
     "name": "stdout",
     "output_type": "stream",
     "text": [
      "Detected GPU(s): [PhysicalDevice(name='/physical_device:GPU:0', device_type='GPU')]\n"
     ]
    }
   ],
   "source": [
    "print( f\"Detected GPU(s): {tf.config.experimental.list_physical_devices('GPU')}\" )"
   ]
  },
  {
   "cell_type": "code",
   "execution_count": 204,
   "id": "responsible-bookmark",
   "metadata": {},
   "outputs": [
    {
     "name": "stdout",
     "output_type": "stream",
     "text": [
      "['A', 'B', 'C', 'D', 'del', 'E', 'F', 'G', 'H', 'I', 'J', 'K', 'L', 'M', 'N', 'O', 'P', 'Q', 'R', 'S', 'space', 'T', 'U', 'V', 'W', 'X', 'Y', 'Z']\n"
     ]
    }
   ],
   "source": [
    "signs = []\n",
    "folder = 'asl_alphabet_train/'\n",
    "for folderName in os.listdir(folder):\n",
    "    signs.append(folderName)\n",
    "print(signs)    "
   ]
  },
  {
   "cell_type": "code",
   "execution_count": 205,
   "id": "instrumental-miniature",
   "metadata": {},
   "outputs": [],
   "source": [
    "signs = ['A', 'B', 'C', 'D', 'del', 'E', 'F', 'G', 'H', 'I', 'J', 'K', 'L', 'M', 'N', 'O', 'P', 'Q', 'R', 'S', 'space', 'T', 'U', 'V', 'W', 'X', 'Y', 'Z']"
   ]
  },
  {
   "cell_type": "code",
   "execution_count": 206,
   "id": "intelligent-glenn",
   "metadata": {},
   "outputs": [
    {
     "name": "stdout",
     "output_type": "stream",
     "text": [
      "0 : A\n",
      "1 : B\n",
      "2 : C\n",
      "3 : D\n",
      "4 : del\n",
      "5 : E\n",
      "6 : F\n",
      "7 : G\n",
      "8 : H\n",
      "9 : I\n",
      "10 : J\n",
      "11 : K\n",
      "12 : L\n",
      "13 : M\n",
      "14 : N\n",
      "15 : O\n",
      "16 : P\n",
      "17 : Q\n",
      "18 : R\n",
      "19 : S\n",
      "20 : space\n",
      "21 : T\n",
      "22 : U\n",
      "23 : V\n",
      "24 : W\n",
      "25 : X\n",
      "26 : Y\n",
      "27 : Z\n"
     ]
    }
   ],
   "source": [
    "for index, i in enumerate(signs):\n",
    "    print(index,':',i)"
   ]
  },
  {
   "cell_type": "code",
   "execution_count": 11,
   "id": "floating-resident",
   "metadata": {},
   "outputs": [],
   "source": [
    "def get_landmark_list(landmarks):\n",
    "    landmark_point = []\n",
    "    # Keypoint \n",
    "    for landmark in landmarks.landmark:\n",
    "        #landmark_point.append([landmark.x, landmark.y, landmark.z])\n",
    "        landmark_point.append([landmark.x, landmark.y])\n",
    "    return landmark_point"
   ]
  },
  {
   "cell_type": "code",
   "execution_count": 12,
   "id": "assured-mathematics",
   "metadata": {},
   "outputs": [],
   "source": [
    "def pre_process_landmark(landmark_list):\n",
    "    temp_landmark_list = copy.deepcopy(landmark_list)\n",
    "\n",
    "    # Convert to relative coordinates\n",
    "    base_x, base_y = 0, 0\n",
    "    for index, landmark_point in enumerate(temp_landmark_list):\n",
    "        if index == 0:\n",
    "            base_x, base_y = landmark_point[0], landmark_point[1]\n",
    "\n",
    "        temp_landmark_list[index][0] = temp_landmark_list[index][0] - base_x\n",
    "        temp_landmark_list[index][1] = temp_landmark_list[index][1] - base_y\n",
    "\n",
    "    # Convert to a one-dimensional list\n",
    "    temp_landmark_list = list(itertools.chain.from_iterable(temp_landmark_list))\n",
    "\n",
    "    return temp_landmark_list"
   ]
  },
  {
   "cell_type": "markdown",
   "id": "incorporated-strand",
   "metadata": {},
   "source": [
    "## Collect Data"
   ]
  },
  {
   "cell_type": "code",
   "execution_count": 48,
   "id": "subsequent-ready",
   "metadata": {},
   "outputs": [],
   "source": [
    "mp_drawing = mp.solutions.drawing_utils\n",
    "mp_hands = mp.solutions.hands"
   ]
  },
  {
   "cell_type": "code",
   "execution_count": 13,
   "id": "thousand-benefit",
   "metadata": {},
   "outputs": [
    {
     "data": {
      "application/vnd.jupyter.widget-view+json": {
       "model_id": "8f2858387adb49f889c6e46235f5d714",
       "version_major": 2,
       "version_minor": 0
      },
      "text/plain": [
       "Loading:: |          | 0/? [00:00<?, ?it/s]"
      ]
     },
     "metadata": {},
     "output_type": "display_data"
    }
   ],
   "source": [
    "data = []\n",
    "folder = 'asl_alphabet_train/'\n",
    "with mp_hands.Hands(\n",
    "    static_image_mode=True,\n",
    "    max_num_hands=1,\n",
    "    min_detection_confidence=0.5) as hands:\n",
    "    for label,folderName in tqdm(enumerate(signs), desc='Loading:'):\n",
    "        for image_filename in os.listdir(folder + folderName):\n",
    "            img_file = cv2.imread(folder + folderName + '/' + image_filename)      \n",
    "            image = cv2.flip(img_file, 1)\n",
    "            # Convert the BGR image to RGB before processing.\n",
    "            results = hands.process(cv2.cvtColor(image, cv2.COLOR_BGR2RGB))\n",
    "            if results.multi_hand_landmarks:\n",
    "                landmark_list = get_landmark_list(results.multi_hand_landmarks[0])\n",
    "                pre_processed_landmark_list  = pre_process_landmark(landmark_list)\n",
    "                #pre_processed_landmark_list = list(itertools.chain.from_iterable(landmark_list))\n",
    "                pre_processed_landmark_list.append(label)\n",
    "                data.append(pre_processed_landmark_list)"
   ]
  },
  {
   "cell_type": "code",
   "execution_count": 14,
   "id": "contemporary-optimum",
   "metadata": {},
   "outputs": [],
   "source": [
    "df = pd.DataFrame(data)"
   ]
  },
  {
   "cell_type": "code",
   "execution_count": 208,
   "id": "excess-madonna",
   "metadata": {},
   "outputs": [
    {
     "data": {
      "text/html": [
       "<div>\n",
       "<style scoped>\n",
       "    .dataframe tbody tr th:only-of-type {\n",
       "        vertical-align: middle;\n",
       "    }\n",
       "\n",
       "    .dataframe tbody tr th {\n",
       "        vertical-align: top;\n",
       "    }\n",
       "\n",
       "    .dataframe thead th {\n",
       "        text-align: right;\n",
       "    }\n",
       "</style>\n",
       "<table border=\"1\" class=\"dataframe\">\n",
       "  <thead>\n",
       "    <tr style=\"text-align: right;\">\n",
       "      <th></th>\n",
       "      <th>0</th>\n",
       "      <th>1</th>\n",
       "      <th>2</th>\n",
       "      <th>3</th>\n",
       "      <th>4</th>\n",
       "      <th>5</th>\n",
       "      <th>6</th>\n",
       "      <th>7</th>\n",
       "      <th>8</th>\n",
       "      <th>9</th>\n",
       "      <th>...</th>\n",
       "      <th>33</th>\n",
       "      <th>34</th>\n",
       "      <th>35</th>\n",
       "      <th>36</th>\n",
       "      <th>37</th>\n",
       "      <th>38</th>\n",
       "      <th>39</th>\n",
       "      <th>40</th>\n",
       "      <th>41</th>\n",
       "      <th>42</th>\n",
       "    </tr>\n",
       "  </thead>\n",
       "  <tbody>\n",
       "    <tr>\n",
       "      <th>0</th>\n",
       "      <td>0.0</td>\n",
       "      <td>0.0</td>\n",
       "      <td>-0.086810</td>\n",
       "      <td>-0.066684</td>\n",
       "      <td>-0.147966</td>\n",
       "      <td>-0.157194</td>\n",
       "      <td>-0.170102</td>\n",
       "      <td>-0.240476</td>\n",
       "      <td>-0.165259</td>\n",
       "      <td>-0.299199</td>\n",
       "      <td>...</td>\n",
       "      <td>-0.107539</td>\n",
       "      <td>0.066877</td>\n",
       "      <td>-0.172518</td>\n",
       "      <td>0.066543</td>\n",
       "      <td>-0.227370</td>\n",
       "      <td>0.056002</td>\n",
       "      <td>-0.175225</td>\n",
       "      <td>0.044668</td>\n",
       "      <td>-0.125688</td>\n",
       "      <td>0</td>\n",
       "    </tr>\n",
       "    <tr>\n",
       "      <th>1</th>\n",
       "      <td>0.0</td>\n",
       "      <td>0.0</td>\n",
       "      <td>-0.109237</td>\n",
       "      <td>-0.093575</td>\n",
       "      <td>-0.170791</td>\n",
       "      <td>-0.238544</td>\n",
       "      <td>-0.173349</td>\n",
       "      <td>-0.359925</td>\n",
       "      <td>-0.151815</td>\n",
       "      <td>-0.466479</td>\n",
       "      <td>...</td>\n",
       "      <td>-0.113803</td>\n",
       "      <td>0.180992</td>\n",
       "      <td>-0.245511</td>\n",
       "      <td>0.124416</td>\n",
       "      <td>-0.272336</td>\n",
       "      <td>0.082000</td>\n",
       "      <td>-0.189661</td>\n",
       "      <td>0.074888</td>\n",
       "      <td>-0.122522</td>\n",
       "      <td>0</td>\n",
       "    </tr>\n",
       "    <tr>\n",
       "      <th>2</th>\n",
       "      <td>0.0</td>\n",
       "      <td>0.0</td>\n",
       "      <td>-0.119484</td>\n",
       "      <td>-0.101306</td>\n",
       "      <td>-0.185372</td>\n",
       "      <td>-0.257455</td>\n",
       "      <td>-0.182518</td>\n",
       "      <td>-0.379690</td>\n",
       "      <td>-0.159045</td>\n",
       "      <td>-0.481489</td>\n",
       "      <td>...</td>\n",
       "      <td>-0.106518</td>\n",
       "      <td>0.177456</td>\n",
       "      <td>-0.255281</td>\n",
       "      <td>0.119196</td>\n",
       "      <td>-0.275295</td>\n",
       "      <td>0.079808</td>\n",
       "      <td>-0.191880</td>\n",
       "      <td>0.075669</td>\n",
       "      <td>-0.126409</td>\n",
       "      <td>0</td>\n",
       "    </tr>\n",
       "    <tr>\n",
       "      <th>3</th>\n",
       "      <td>0.0</td>\n",
       "      <td>0.0</td>\n",
       "      <td>-0.118329</td>\n",
       "      <td>-0.100434</td>\n",
       "      <td>-0.179245</td>\n",
       "      <td>-0.261817</td>\n",
       "      <td>-0.170694</td>\n",
       "      <td>-0.384803</td>\n",
       "      <td>-0.145097</td>\n",
       "      <td>-0.484791</td>\n",
       "      <td>...</td>\n",
       "      <td>-0.099248</td>\n",
       "      <td>0.188970</td>\n",
       "      <td>-0.256071</td>\n",
       "      <td>0.120085</td>\n",
       "      <td>-0.274377</td>\n",
       "      <td>0.083001</td>\n",
       "      <td>-0.190868</td>\n",
       "      <td>0.080532</td>\n",
       "      <td>-0.126346</td>\n",
       "      <td>0</td>\n",
       "    </tr>\n",
       "    <tr>\n",
       "      <th>4</th>\n",
       "      <td>0.0</td>\n",
       "      <td>0.0</td>\n",
       "      <td>-0.120701</td>\n",
       "      <td>-0.091424</td>\n",
       "      <td>-0.186999</td>\n",
       "      <td>-0.256116</td>\n",
       "      <td>-0.183836</td>\n",
       "      <td>-0.381842</td>\n",
       "      <td>-0.163201</td>\n",
       "      <td>-0.484689</td>\n",
       "      <td>...</td>\n",
       "      <td>-0.087029</td>\n",
       "      <td>0.167943</td>\n",
       "      <td>-0.256836</td>\n",
       "      <td>0.122253</td>\n",
       "      <td>-0.273428</td>\n",
       "      <td>0.091254</td>\n",
       "      <td>-0.188119</td>\n",
       "      <td>0.085924</td>\n",
       "      <td>-0.122901</td>\n",
       "      <td>0</td>\n",
       "    </tr>\n",
       "  </tbody>\n",
       "</table>\n",
       "<p>5 rows × 43 columns</p>\n",
       "</div>"
      ],
      "text/plain": [
       "     0    1         2         3         4         5         6         7  \\\n",
       "0  0.0  0.0 -0.086810 -0.066684 -0.147966 -0.157194 -0.170102 -0.240476   \n",
       "1  0.0  0.0 -0.109237 -0.093575 -0.170791 -0.238544 -0.173349 -0.359925   \n",
       "2  0.0  0.0 -0.119484 -0.101306 -0.185372 -0.257455 -0.182518 -0.379690   \n",
       "3  0.0  0.0 -0.118329 -0.100434 -0.179245 -0.261817 -0.170694 -0.384803   \n",
       "4  0.0  0.0 -0.120701 -0.091424 -0.186999 -0.256116 -0.183836 -0.381842   \n",
       "\n",
       "          8         9  ...        33        34        35        36        37  \\\n",
       "0 -0.165259 -0.299199  ... -0.107539  0.066877 -0.172518  0.066543 -0.227370   \n",
       "1 -0.151815 -0.466479  ... -0.113803  0.180992 -0.245511  0.124416 -0.272336   \n",
       "2 -0.159045 -0.481489  ... -0.106518  0.177456 -0.255281  0.119196 -0.275295   \n",
       "3 -0.145097 -0.484791  ... -0.099248  0.188970 -0.256071  0.120085 -0.274377   \n",
       "4 -0.163201 -0.484689  ... -0.087029  0.167943 -0.256836  0.122253 -0.273428   \n",
       "\n",
       "         38        39        40        41  42  \n",
       "0  0.056002 -0.175225  0.044668 -0.125688   0  \n",
       "1  0.082000 -0.189661  0.074888 -0.122522   0  \n",
       "2  0.079808 -0.191880  0.075669 -0.126409   0  \n",
       "3  0.083001 -0.190868  0.080532 -0.126346   0  \n",
       "4  0.091254 -0.188119  0.085924 -0.122901   0  \n",
       "\n",
       "[5 rows x 43 columns]"
      ]
     },
     "execution_count": 208,
     "metadata": {},
     "output_type": "execute_result"
    }
   ],
   "source": [
    "df.head()"
   ]
  },
  {
   "cell_type": "code",
   "execution_count": 16,
   "id": "studied-horse",
   "metadata": {},
   "outputs": [
    {
     "data": {
      "text/plain": [
       "(61115, 43)"
      ]
     },
     "execution_count": 16,
     "metadata": {},
     "output_type": "execute_result"
    }
   ],
   "source": [
    "df.shape"
   ]
  },
  {
   "cell_type": "code",
   "execution_count": 17,
   "id": "confused-multiple",
   "metadata": {},
   "outputs": [],
   "source": [
    "df.to_csv(\"data/hand_42.csv\", index = False)"
   ]
  },
  {
   "cell_type": "code",
   "execution_count": 207,
   "id": "described-capital",
   "metadata": {},
   "outputs": [],
   "source": [
    "df = pd.read_csv('data/hand_42.csv')"
   ]
  },
  {
   "cell_type": "code",
   "execution_count": 209,
   "id": "documentary-worship",
   "metadata": {},
   "outputs": [
    {
     "data": {
      "text/html": [
       "<div>\n",
       "<style scoped>\n",
       "    .dataframe tbody tr th:only-of-type {\n",
       "        vertical-align: middle;\n",
       "    }\n",
       "\n",
       "    .dataframe tbody tr th {\n",
       "        vertical-align: top;\n",
       "    }\n",
       "\n",
       "    .dataframe thead th {\n",
       "        text-align: right;\n",
       "    }\n",
       "</style>\n",
       "<table border=\"1\" class=\"dataframe\">\n",
       "  <thead>\n",
       "    <tr style=\"text-align: right;\">\n",
       "      <th></th>\n",
       "      <th>0</th>\n",
       "      <th>1</th>\n",
       "      <th>2</th>\n",
       "      <th>3</th>\n",
       "      <th>4</th>\n",
       "      <th>5</th>\n",
       "      <th>6</th>\n",
       "      <th>7</th>\n",
       "      <th>8</th>\n",
       "      <th>9</th>\n",
       "      <th>...</th>\n",
       "      <th>33</th>\n",
       "      <th>34</th>\n",
       "      <th>35</th>\n",
       "      <th>36</th>\n",
       "      <th>37</th>\n",
       "      <th>38</th>\n",
       "      <th>39</th>\n",
       "      <th>40</th>\n",
       "      <th>41</th>\n",
       "      <th>42</th>\n",
       "    </tr>\n",
       "  </thead>\n",
       "  <tbody>\n",
       "    <tr>\n",
       "      <th>0</th>\n",
       "      <td>0.0</td>\n",
       "      <td>0.0</td>\n",
       "      <td>-0.086810</td>\n",
       "      <td>-0.066684</td>\n",
       "      <td>-0.147966</td>\n",
       "      <td>-0.157194</td>\n",
       "      <td>-0.170102</td>\n",
       "      <td>-0.240476</td>\n",
       "      <td>-0.165259</td>\n",
       "      <td>-0.299199</td>\n",
       "      <td>...</td>\n",
       "      <td>-0.107539</td>\n",
       "      <td>0.066877</td>\n",
       "      <td>-0.172518</td>\n",
       "      <td>0.066543</td>\n",
       "      <td>-0.227370</td>\n",
       "      <td>0.056002</td>\n",
       "      <td>-0.175225</td>\n",
       "      <td>0.044668</td>\n",
       "      <td>-0.125688</td>\n",
       "      <td>0</td>\n",
       "    </tr>\n",
       "    <tr>\n",
       "      <th>1</th>\n",
       "      <td>0.0</td>\n",
       "      <td>0.0</td>\n",
       "      <td>-0.109237</td>\n",
       "      <td>-0.093575</td>\n",
       "      <td>-0.170791</td>\n",
       "      <td>-0.238544</td>\n",
       "      <td>-0.173349</td>\n",
       "      <td>-0.359925</td>\n",
       "      <td>-0.151815</td>\n",
       "      <td>-0.466479</td>\n",
       "      <td>...</td>\n",
       "      <td>-0.113803</td>\n",
       "      <td>0.180992</td>\n",
       "      <td>-0.245511</td>\n",
       "      <td>0.124416</td>\n",
       "      <td>-0.272336</td>\n",
       "      <td>0.082000</td>\n",
       "      <td>-0.189661</td>\n",
       "      <td>0.074888</td>\n",
       "      <td>-0.122522</td>\n",
       "      <td>0</td>\n",
       "    </tr>\n",
       "    <tr>\n",
       "      <th>2</th>\n",
       "      <td>0.0</td>\n",
       "      <td>0.0</td>\n",
       "      <td>-0.119484</td>\n",
       "      <td>-0.101306</td>\n",
       "      <td>-0.185372</td>\n",
       "      <td>-0.257455</td>\n",
       "      <td>-0.182518</td>\n",
       "      <td>-0.379690</td>\n",
       "      <td>-0.159045</td>\n",
       "      <td>-0.481489</td>\n",
       "      <td>...</td>\n",
       "      <td>-0.106518</td>\n",
       "      <td>0.177456</td>\n",
       "      <td>-0.255281</td>\n",
       "      <td>0.119196</td>\n",
       "      <td>-0.275295</td>\n",
       "      <td>0.079808</td>\n",
       "      <td>-0.191880</td>\n",
       "      <td>0.075669</td>\n",
       "      <td>-0.126409</td>\n",
       "      <td>0</td>\n",
       "    </tr>\n",
       "    <tr>\n",
       "      <th>3</th>\n",
       "      <td>0.0</td>\n",
       "      <td>0.0</td>\n",
       "      <td>-0.118329</td>\n",
       "      <td>-0.100434</td>\n",
       "      <td>-0.179245</td>\n",
       "      <td>-0.261817</td>\n",
       "      <td>-0.170694</td>\n",
       "      <td>-0.384803</td>\n",
       "      <td>-0.145097</td>\n",
       "      <td>-0.484791</td>\n",
       "      <td>...</td>\n",
       "      <td>-0.099248</td>\n",
       "      <td>0.188970</td>\n",
       "      <td>-0.256071</td>\n",
       "      <td>0.120085</td>\n",
       "      <td>-0.274377</td>\n",
       "      <td>0.083001</td>\n",
       "      <td>-0.190868</td>\n",
       "      <td>0.080532</td>\n",
       "      <td>-0.126346</td>\n",
       "      <td>0</td>\n",
       "    </tr>\n",
       "    <tr>\n",
       "      <th>4</th>\n",
       "      <td>0.0</td>\n",
       "      <td>0.0</td>\n",
       "      <td>-0.120701</td>\n",
       "      <td>-0.091424</td>\n",
       "      <td>-0.186999</td>\n",
       "      <td>-0.256116</td>\n",
       "      <td>-0.183836</td>\n",
       "      <td>-0.381842</td>\n",
       "      <td>-0.163201</td>\n",
       "      <td>-0.484689</td>\n",
       "      <td>...</td>\n",
       "      <td>-0.087029</td>\n",
       "      <td>0.167943</td>\n",
       "      <td>-0.256836</td>\n",
       "      <td>0.122253</td>\n",
       "      <td>-0.273428</td>\n",
       "      <td>0.091254</td>\n",
       "      <td>-0.188119</td>\n",
       "      <td>0.085924</td>\n",
       "      <td>-0.122901</td>\n",
       "      <td>0</td>\n",
       "    </tr>\n",
       "  </tbody>\n",
       "</table>\n",
       "<p>5 rows × 43 columns</p>\n",
       "</div>"
      ],
      "text/plain": [
       "     0    1         2         3         4         5         6         7  \\\n",
       "0  0.0  0.0 -0.086810 -0.066684 -0.147966 -0.157194 -0.170102 -0.240476   \n",
       "1  0.0  0.0 -0.109237 -0.093575 -0.170791 -0.238544 -0.173349 -0.359925   \n",
       "2  0.0  0.0 -0.119484 -0.101306 -0.185372 -0.257455 -0.182518 -0.379690   \n",
       "3  0.0  0.0 -0.118329 -0.100434 -0.179245 -0.261817 -0.170694 -0.384803   \n",
       "4  0.0  0.0 -0.120701 -0.091424 -0.186999 -0.256116 -0.183836 -0.381842   \n",
       "\n",
       "          8         9  ...        33        34        35        36        37  \\\n",
       "0 -0.165259 -0.299199  ... -0.107539  0.066877 -0.172518  0.066543 -0.227370   \n",
       "1 -0.151815 -0.466479  ... -0.113803  0.180992 -0.245511  0.124416 -0.272336   \n",
       "2 -0.159045 -0.481489  ... -0.106518  0.177456 -0.255281  0.119196 -0.275295   \n",
       "3 -0.145097 -0.484791  ... -0.099248  0.188970 -0.256071  0.120085 -0.274377   \n",
       "4 -0.163201 -0.484689  ... -0.087029  0.167943 -0.256836  0.122253 -0.273428   \n",
       "\n",
       "         38        39        40        41  42  \n",
       "0  0.056002 -0.175225  0.044668 -0.125688   0  \n",
       "1  0.082000 -0.189661  0.074888 -0.122522   0  \n",
       "2  0.079808 -0.191880  0.075669 -0.126409   0  \n",
       "3  0.083001 -0.190868  0.080532 -0.126346   0  \n",
       "4  0.091254 -0.188119  0.085924 -0.122901   0  \n",
       "\n",
       "[5 rows x 43 columns]"
      ]
     },
     "execution_count": 209,
     "metadata": {},
     "output_type": "execute_result"
    }
   ],
   "source": [
    "df.head()"
   ]
  },
  {
   "cell_type": "code",
   "execution_count": 210,
   "id": "italic-variety",
   "metadata": {},
   "outputs": [
    {
     "data": {
      "text/plain": [
       "<AxesSubplot:xlabel='42', ylabel='count'>"
      ]
     },
     "execution_count": 210,
     "metadata": {},
     "output_type": "execute_result"
    },
    {
     "data": {
      "image/png": "[encoded data removed]",
      "text/plain": [
       "<Figure size 864x432 with 1 Axes>"
      ]
     },
     "metadata": {
      "needs_background": "light"
     },
     "output_type": "display_data"
    }
   ],
   "source": [
    "plt.figure(figsize=(12,6))\n",
    "sns.countplot(x= str(df.shape[1]-1), data=df)"
   ]
  },
  {
   "cell_type": "code",
   "execution_count": 20,
   "id": "selective-korea",
   "metadata": {},
   "outputs": [],
   "source": [
    "df_shuffled = df.sample(frac=1).reset_index(drop=True)"
   ]
  },
  {
   "cell_type": "code",
   "execution_count": 21,
   "id": "valid-central",
   "metadata": {},
   "outputs": [],
   "source": [
    "df_shuffled.to_csv(\"data/hand_42_shuffled.csv\", index = False)"
   ]
  },
  {
   "cell_type": "markdown",
   "id": "expensive-treaty",
   "metadata": {},
   "source": [
    "## Preprocessing"
   ]
  },
  {
   "cell_type": "code",
   "execution_count": 211,
   "id": "increased-intersection",
   "metadata": {},
   "outputs": [
    {
     "data": {
      "text/html": [
       "<div>\n",
       "<style scoped>\n",
       "    .dataframe tbody tr th:only-of-type {\n",
       "        vertical-align: middle;\n",
       "    }\n",
       "\n",
       "    .dataframe tbody tr th {\n",
       "        vertical-align: top;\n",
       "    }\n",
       "\n",
       "    .dataframe thead th {\n",
       "        text-align: right;\n",
       "    }\n",
       "</style>\n",
       "<table border=\"1\" class=\"dataframe\">\n",
       "  <thead>\n",
       "    <tr style=\"text-align: right;\">\n",
       "      <th></th>\n",
       "      <th>0</th>\n",
       "      <th>1</th>\n",
       "      <th>2</th>\n",
       "      <th>3</th>\n",
       "      <th>4</th>\n",
       "      <th>5</th>\n",
       "      <th>6</th>\n",
       "      <th>7</th>\n",
       "      <th>8</th>\n",
       "      <th>9</th>\n",
       "      <th>...</th>\n",
       "      <th>33</th>\n",
       "      <th>34</th>\n",
       "      <th>35</th>\n",
       "      <th>36</th>\n",
       "      <th>37</th>\n",
       "      <th>38</th>\n",
       "      <th>39</th>\n",
       "      <th>40</th>\n",
       "      <th>41</th>\n",
       "      <th>42</th>\n",
       "    </tr>\n",
       "  </thead>\n",
       "  <tbody>\n",
       "    <tr>\n",
       "      <th>0</th>\n",
       "      <td>0.0</td>\n",
       "      <td>0.0</td>\n",
       "      <td>-0.064997</td>\n",
       "      <td>-0.099911</td>\n",
       "      <td>-0.069222</td>\n",
       "      <td>-0.216890</td>\n",
       "      <td>0.015125</td>\n",
       "      <td>-0.271871</td>\n",
       "      <td>0.085033</td>\n",
       "      <td>-0.247335</td>\n",
       "      <td>...</td>\n",
       "      <td>-0.206529</td>\n",
       "      <td>0.178049</td>\n",
       "      <td>-0.170722</td>\n",
       "      <td>0.249379</td>\n",
       "      <td>-0.238370</td>\n",
       "      <td>0.298551</td>\n",
       "      <td>-0.290769</td>\n",
       "      <td>0.347979</td>\n",
       "      <td>-0.345135</td>\n",
       "      <td>10</td>\n",
       "    </tr>\n",
       "    <tr>\n",
       "      <th>1</th>\n",
       "      <td>0.0</td>\n",
       "      <td>0.0</td>\n",
       "      <td>-0.134591</td>\n",
       "      <td>-0.040712</td>\n",
       "      <td>-0.202554</td>\n",
       "      <td>-0.123021</td>\n",
       "      <td>-0.263737</td>\n",
       "      <td>-0.180160</td>\n",
       "      <td>-0.299763</td>\n",
       "      <td>-0.251939</td>\n",
       "      <td>...</td>\n",
       "      <td>-0.278718</td>\n",
       "      <td>-0.008644</td>\n",
       "      <td>-0.274063</td>\n",
       "      <td>-0.111019</td>\n",
       "      <td>-0.386786</td>\n",
       "      <td>-0.178661</td>\n",
       "      <td>-0.381984</td>\n",
       "      <td>-0.216490</td>\n",
       "      <td>-0.356171</td>\n",
       "      <td>3</td>\n",
       "    </tr>\n",
       "    <tr>\n",
       "      <th>2</th>\n",
       "      <td>0.0</td>\n",
       "      <td>0.0</td>\n",
       "      <td>-0.110208</td>\n",
       "      <td>0.022632</td>\n",
       "      <td>-0.204340</td>\n",
       "      <td>-0.020149</td>\n",
       "      <td>-0.284879</td>\n",
       "      <td>-0.062564</td>\n",
       "      <td>-0.368064</td>\n",
       "      <td>-0.098021</td>\n",
       "      <td>...</td>\n",
       "      <td>-0.415765</td>\n",
       "      <td>-0.016628</td>\n",
       "      <td>-0.243216</td>\n",
       "      <td>-0.052186</td>\n",
       "      <td>-0.337372</td>\n",
       "      <td>-0.106013</td>\n",
       "      <td>-0.381117</td>\n",
       "      <td>-0.167129</td>\n",
       "      <td>-0.408367</td>\n",
       "      <td>2</td>\n",
       "    </tr>\n",
       "    <tr>\n",
       "      <th>3</th>\n",
       "      <td>0.0</td>\n",
       "      <td>0.0</td>\n",
       "      <td>0.004047</td>\n",
       "      <td>-0.003976</td>\n",
       "      <td>0.012934</td>\n",
       "      <td>0.003421</td>\n",
       "      <td>0.029799</td>\n",
       "      <td>0.042800</td>\n",
       "      <td>0.051391</td>\n",
       "      <td>0.070174</td>\n",
       "      <td>...</td>\n",
       "      <td>0.117331</td>\n",
       "      <td>0.021889</td>\n",
       "      <td>-0.055994</td>\n",
       "      <td>0.039228</td>\n",
       "      <td>0.017604</td>\n",
       "      <td>0.046497</td>\n",
       "      <td>0.059710</td>\n",
       "      <td>0.055066</td>\n",
       "      <td>0.081579</td>\n",
       "      <td>14</td>\n",
       "    </tr>\n",
       "    <tr>\n",
       "      <th>4</th>\n",
       "      <td>0.0</td>\n",
       "      <td>0.0</td>\n",
       "      <td>-0.054242</td>\n",
       "      <td>-0.086916</td>\n",
       "      <td>-0.060029</td>\n",
       "      <td>-0.184459</td>\n",
       "      <td>-0.053523</td>\n",
       "      <td>-0.253934</td>\n",
       "      <td>-0.042478</td>\n",
       "      <td>-0.292820</td>\n",
       "      <td>...</td>\n",
       "      <td>-0.158116</td>\n",
       "      <td>0.132788</td>\n",
       "      <td>-0.118668</td>\n",
       "      <td>0.129921</td>\n",
       "      <td>-0.172116</td>\n",
       "      <td>0.082942</td>\n",
       "      <td>-0.171654</td>\n",
       "      <td>0.051102</td>\n",
       "      <td>-0.166066</td>\n",
       "      <td>23</td>\n",
       "    </tr>\n",
       "  </tbody>\n",
       "</table>\n",
       "<p>5 rows × 43 columns</p>\n",
       "</div>"
      ],
      "text/plain": [
       "     0    1         2         3         4         5         6         7  \\\n",
       "0  0.0  0.0 -0.064997 -0.099911 -0.069222 -0.216890  0.015125 -0.271871   \n",
       "1  0.0  0.0 -0.134591 -0.040712 -0.202554 -0.123021 -0.263737 -0.180160   \n",
       "2  0.0  0.0 -0.110208  0.022632 -0.204340 -0.020149 -0.284879 -0.062564   \n",
       "3  0.0  0.0  0.004047 -0.003976  0.012934  0.003421  0.029799  0.042800   \n",
       "4  0.0  0.0 -0.054242 -0.086916 -0.060029 -0.184459 -0.053523 -0.253934   \n",
       "\n",
       "          8         9  ...        33        34        35        36        37  \\\n",
       "0  0.085033 -0.247335  ... -0.206529  0.178049 -0.170722  0.249379 -0.238370   \n",
       "1 -0.299763 -0.251939  ... -0.278718 -0.008644 -0.274063 -0.111019 -0.386786   \n",
       "2 -0.368064 -0.098021  ... -0.415765 -0.016628 -0.243216 -0.052186 -0.337372   \n",
       "3  0.051391  0.070174  ...  0.117331  0.021889 -0.055994  0.039228  0.017604   \n",
       "4 -0.042478 -0.292820  ... -0.158116  0.132788 -0.118668  0.129921 -0.172116   \n",
       "\n",
       "         38        39        40        41  42  \n",
       "0  0.298551 -0.290769  0.347979 -0.345135  10  \n",
       "1 -0.178661 -0.381984 -0.216490 -0.356171   3  \n",
       "2 -0.106013 -0.381117 -0.167129 -0.408367   2  \n",
       "3  0.046497  0.059710  0.055066  0.081579  14  \n",
       "4  0.082942 -0.171654  0.051102 -0.166066  23  \n",
       "\n",
       "[5 rows x 43 columns]"
      ]
     },
     "execution_count": 211,
     "metadata": {},
     "output_type": "execute_result"
    }
   ],
   "source": [
    "df = pd.read_csv('data/hand_42_shuffled.csv')\n",
    "df.head()"
   ]
  },
  {
   "cell_type": "code",
   "execution_count": 212,
   "id": "nominated-render",
   "metadata": {},
   "outputs": [],
   "source": [
    "X = df.iloc[:, :df.shape[1]-1]\n",
    "y = df.iloc[:,df.shape[1]-1]"
   ]
  },
  {
   "cell_type": "code",
   "execution_count": 213,
   "id": "flying-brunswick",
   "metadata": {},
   "outputs": [
    {
     "data": {
      "text/html": [
       "<div>\n",
       "<style scoped>\n",
       "    .dataframe tbody tr th:only-of-type {\n",
       "        vertical-align: middle;\n",
       "    }\n",
       "\n",
       "    .dataframe tbody tr th {\n",
       "        vertical-align: top;\n",
       "    }\n",
       "\n",
       "    .dataframe thead th {\n",
       "        text-align: right;\n",
       "    }\n",
       "</style>\n",
       "<table border=\"1\" class=\"dataframe\">\n",
       "  <thead>\n",
       "    <tr style=\"text-align: right;\">\n",
       "      <th></th>\n",
       "      <th>0</th>\n",
       "      <th>1</th>\n",
       "      <th>2</th>\n",
       "      <th>3</th>\n",
       "      <th>4</th>\n",
       "      <th>5</th>\n",
       "      <th>6</th>\n",
       "      <th>7</th>\n",
       "      <th>8</th>\n",
       "      <th>9</th>\n",
       "      <th>...</th>\n",
       "      <th>32</th>\n",
       "      <th>33</th>\n",
       "      <th>34</th>\n",
       "      <th>35</th>\n",
       "      <th>36</th>\n",
       "      <th>37</th>\n",
       "      <th>38</th>\n",
       "      <th>39</th>\n",
       "      <th>40</th>\n",
       "      <th>41</th>\n",
       "    </tr>\n",
       "  </thead>\n",
       "  <tbody>\n",
       "    <tr>\n",
       "      <th>0</th>\n",
       "      <td>0.0</td>\n",
       "      <td>0.0</td>\n",
       "      <td>-0.064997</td>\n",
       "      <td>-0.099911</td>\n",
       "      <td>-0.069222</td>\n",
       "      <td>-0.216890</td>\n",
       "      <td>0.015125</td>\n",
       "      <td>-0.271871</td>\n",
       "      <td>0.085033</td>\n",
       "      <td>-0.247335</td>\n",
       "      <td>...</td>\n",
       "      <td>0.069876</td>\n",
       "      <td>-0.206529</td>\n",
       "      <td>0.178049</td>\n",
       "      <td>-0.170722</td>\n",
       "      <td>0.249379</td>\n",
       "      <td>-0.238370</td>\n",
       "      <td>0.298551</td>\n",
       "      <td>-0.290769</td>\n",
       "      <td>0.347979</td>\n",
       "      <td>-0.345135</td>\n",
       "    </tr>\n",
       "    <tr>\n",
       "      <th>1</th>\n",
       "      <td>0.0</td>\n",
       "      <td>0.0</td>\n",
       "      <td>-0.134591</td>\n",
       "      <td>-0.040712</td>\n",
       "      <td>-0.202554</td>\n",
       "      <td>-0.123021</td>\n",
       "      <td>-0.263737</td>\n",
       "      <td>-0.180160</td>\n",
       "      <td>-0.299763</td>\n",
       "      <td>-0.251939</td>\n",
       "      <td>...</td>\n",
       "      <td>-0.240966</td>\n",
       "      <td>-0.278718</td>\n",
       "      <td>-0.008644</td>\n",
       "      <td>-0.274063</td>\n",
       "      <td>-0.111019</td>\n",
       "      <td>-0.386786</td>\n",
       "      <td>-0.178661</td>\n",
       "      <td>-0.381984</td>\n",
       "      <td>-0.216490</td>\n",
       "      <td>-0.356171</td>\n",
       "    </tr>\n",
       "    <tr>\n",
       "      <th>2</th>\n",
       "      <td>0.0</td>\n",
       "      <td>0.0</td>\n",
       "      <td>-0.110208</td>\n",
       "      <td>0.022632</td>\n",
       "      <td>-0.204340</td>\n",
       "      <td>-0.020149</td>\n",
       "      <td>-0.284879</td>\n",
       "      <td>-0.062564</td>\n",
       "      <td>-0.368064</td>\n",
       "      <td>-0.098021</td>\n",
       "      <td>...</td>\n",
       "      <td>-0.257773</td>\n",
       "      <td>-0.415765</td>\n",
       "      <td>-0.016628</td>\n",
       "      <td>-0.243216</td>\n",
       "      <td>-0.052186</td>\n",
       "      <td>-0.337372</td>\n",
       "      <td>-0.106013</td>\n",
       "      <td>-0.381117</td>\n",
       "      <td>-0.167129</td>\n",
       "      <td>-0.408367</td>\n",
       "    </tr>\n",
       "    <tr>\n",
       "      <th>3</th>\n",
       "      <td>0.0</td>\n",
       "      <td>0.0</td>\n",
       "      <td>0.004047</td>\n",
       "      <td>-0.003976</td>\n",
       "      <td>0.012934</td>\n",
       "      <td>0.003421</td>\n",
       "      <td>0.029799</td>\n",
       "      <td>0.042800</td>\n",
       "      <td>0.051391</td>\n",
       "      <td>0.070174</td>\n",
       "      <td>...</td>\n",
       "      <td>0.052010</td>\n",
       "      <td>0.117331</td>\n",
       "      <td>0.021889</td>\n",
       "      <td>-0.055994</td>\n",
       "      <td>0.039228</td>\n",
       "      <td>0.017604</td>\n",
       "      <td>0.046497</td>\n",
       "      <td>0.059710</td>\n",
       "      <td>0.055066</td>\n",
       "      <td>0.081579</td>\n",
       "    </tr>\n",
       "    <tr>\n",
       "      <th>4</th>\n",
       "      <td>0.0</td>\n",
       "      <td>0.0</td>\n",
       "      <td>-0.054242</td>\n",
       "      <td>-0.086916</td>\n",
       "      <td>-0.060029</td>\n",
       "      <td>-0.184459</td>\n",
       "      <td>-0.053523</td>\n",
       "      <td>-0.253934</td>\n",
       "      <td>-0.042478</td>\n",
       "      <td>-0.292820</td>\n",
       "      <td>...</td>\n",
       "      <td>-0.028182</td>\n",
       "      <td>-0.158116</td>\n",
       "      <td>0.132788</td>\n",
       "      <td>-0.118668</td>\n",
       "      <td>0.129921</td>\n",
       "      <td>-0.172116</td>\n",
       "      <td>0.082942</td>\n",
       "      <td>-0.171654</td>\n",
       "      <td>0.051102</td>\n",
       "      <td>-0.166066</td>\n",
       "    </tr>\n",
       "  </tbody>\n",
       "</table>\n",
       "<p>5 rows × 42 columns</p>\n",
       "</div>"
      ],
      "text/plain": [
       "     0    1         2         3         4         5         6         7  \\\n",
       "0  0.0  0.0 -0.064997 -0.099911 -0.069222 -0.216890  0.015125 -0.271871   \n",
       "1  0.0  0.0 -0.134591 -0.040712 -0.202554 -0.123021 -0.263737 -0.180160   \n",
       "2  0.0  0.0 -0.110208  0.022632 -0.204340 -0.020149 -0.284879 -0.062564   \n",
       "3  0.0  0.0  0.004047 -0.003976  0.012934  0.003421  0.029799  0.042800   \n",
       "4  0.0  0.0 -0.054242 -0.086916 -0.060029 -0.184459 -0.053523 -0.253934   \n",
       "\n",
       "          8         9  ...        32        33        34        35        36  \\\n",
       "0  0.085033 -0.247335  ...  0.069876 -0.206529  0.178049 -0.170722  0.249379   \n",
       "1 -0.299763 -0.251939  ... -0.240966 -0.278718 -0.008644 -0.274063 -0.111019   \n",
       "2 -0.368064 -0.098021  ... -0.257773 -0.415765 -0.016628 -0.243216 -0.052186   \n",
       "3  0.051391  0.070174  ...  0.052010  0.117331  0.021889 -0.055994  0.039228   \n",
       "4 -0.042478 -0.292820  ... -0.028182 -0.158116  0.132788 -0.118668  0.129921   \n",
       "\n",
       "         37        38        39        40        41  \n",
       "0 -0.238370  0.298551 -0.290769  0.347979 -0.345135  \n",
       "1 -0.386786 -0.178661 -0.381984 -0.216490 -0.356171  \n",
       "2 -0.337372 -0.106013 -0.381117 -0.167129 -0.408367  \n",
       "3  0.017604  0.046497  0.059710  0.055066  0.081579  \n",
       "4 -0.172116  0.082942 -0.171654  0.051102 -0.166066  \n",
       "\n",
       "[5 rows x 42 columns]"
      ]
     },
     "execution_count": 213,
     "metadata": {},
     "output_type": "execute_result"
    }
   ],
   "source": [
    "X.head()"
   ]
  },
  {
   "cell_type": "code",
   "execution_count": 214,
   "id": "exempt-jackson",
   "metadata": {},
   "outputs": [
    {
     "data": {
      "text/plain": [
       "0    10\n",
       "1     3\n",
       "2     2\n",
       "3    14\n",
       "4    23\n",
       "Name: 42, dtype: int64"
      ]
     },
     "execution_count": 214,
     "metadata": {},
     "output_type": "execute_result"
    }
   ],
   "source": [
    "y.head()"
   ]
  },
  {
   "cell_type": "markdown",
   "id": "silver-lingerie",
   "metadata": {},
   "source": [
    "## Split Train & Test"
   ]
  },
  {
   "cell_type": "code",
   "execution_count": 215,
   "id": "familiar-pendant",
   "metadata": {},
   "outputs": [],
   "source": [
    "X_train, X_test, y_train, y_test = train_test_split(X, y, test_size =0.2, random_state = 11 )"
   ]
  },
  {
   "cell_type": "code",
   "execution_count": 216,
   "id": "dimensional-crash",
   "metadata": {},
   "outputs": [
    {
     "data": {
      "text/plain": [
       "<AxesSubplot:xlabel='42', ylabel='count'>"
      ]
     },
     "execution_count": 216,
     "metadata": {},
     "output_type": "execute_result"
    },
    {
     "data": {
      "image/png": "[encoded data removed]",
      "text/plain": [
       "<Figure size 864x432 with 1 Axes>"
      ]
     },
     "metadata": {
      "needs_background": "light"
     },
     "output_type": "display_data"
    }
   ],
   "source": [
    "df_y_train = pd.DataFrame(y_train)\n",
    "plt.figure(figsize=(12,6))\n",
    "sns.countplot(x = '42' , data=df_y_train)"
   ]
  },
  {
   "cell_type": "code",
   "execution_count": 217,
   "id": "several-persian",
   "metadata": {},
   "outputs": [
    {
     "data": {
      "text/plain": [
       "(48892, 1)"
      ]
     },
     "execution_count": 217,
     "metadata": {},
     "output_type": "execute_result"
    }
   ],
   "source": [
    "df_y_train.shape"
   ]
  },
  {
   "cell_type": "code",
   "execution_count": 218,
   "id": "imperial-double",
   "metadata": {},
   "outputs": [
    {
     "data": {
      "text/plain": [
       "<AxesSubplot:xlabel='42', ylabel='count'>"
      ]
     },
     "execution_count": 218,
     "metadata": {},
     "output_type": "execute_result"
    },
    {
     "data": {
      "image/png": "[encoded data removed]",
      "text/plain": [
       "<Figure size 864x432 with 1 Axes>"
      ]
     },
     "metadata": {
      "needs_background": "light"
     },
     "output_type": "display_data"
    }
   ],
   "source": [
    "df_y_test = pd.DataFrame(y_test)\n",
    "plt.figure(figsize=(12,6))\n",
    "sns.countplot(x = '42' , data=df_y_test)"
   ]
  },
  {
   "cell_type": "code",
   "execution_count": 219,
   "id": "naughty-furniture",
   "metadata": {},
   "outputs": [
    {
     "data": {
      "text/plain": [
       "(12223, 1)"
      ]
     },
     "execution_count": 219,
     "metadata": {},
     "output_type": "execute_result"
    }
   ],
   "source": [
    "df_y_test.shape"
   ]
  },
  {
   "cell_type": "markdown",
   "id": "interstate-wilson",
   "metadata": {},
   "source": [
    "## SVM"
   ]
  },
  {
   "cell_type": "code",
   "execution_count": 220,
   "id": "loved-stretch",
   "metadata": {},
   "outputs": [],
   "source": [
    "clf_svm = svm.SVC(decision_function_shape='ovr')\n",
    "clf_svm.fit(X_train, y_train)\n",
    "y_pred_svm = clf_svm.predict(X_test)"
   ]
  },
  {
   "cell_type": "code",
   "execution_count": 221,
   "id": "roman-alias",
   "metadata": {},
   "outputs": [
    {
     "name": "stdout",
     "output_type": "stream",
     "text": [
      "SVM Accuracy: 0.9429763560500696\n"
     ]
    }
   ],
   "source": [
    "print(\"SVM Accuracy:\",metrics.accuracy_score(y_test, y_pred_svm))"
   ]
  },
  {
   "cell_type": "code",
   "execution_count": 222,
   "id": "explicit-header",
   "metadata": {},
   "outputs": [
    {
     "data": {
      "text/plain": [
       "['models/hg_svm_42.joblib']"
      ]
     },
     "execution_count": 222,
     "metadata": {},
     "output_type": "execute_result"
    }
   ],
   "source": [
    "dump(clf_svm, 'model/hg_svm_42.joblib')  "
   ]
  },
  {
   "cell_type": "markdown",
   "id": "living-thunder",
   "metadata": {},
   "source": [
    "## Random Forest"
   ]
  },
  {
   "cell_type": "code",
   "execution_count": 223,
   "id": "devoted-madness",
   "metadata": {},
   "outputs": [],
   "source": [
    "clf_rf = RandomForestClassifier(criterion = 'entropy', n_estimators  = 100)\n",
    "clf_rf.fit(X_train, y_train)\n",
    "y_pred_rf = clf_rf.predict(X_test)"
   ]
  },
  {
   "cell_type": "code",
   "execution_count": 224,
   "id": "flush-container",
   "metadata": {},
   "outputs": [
    {
     "name": "stdout",
     "output_type": "stream",
     "text": [
      "Accuracy: 0.961956966374867\n"
     ]
    }
   ],
   "source": [
    "print(\"Accuracy:\",metrics.accuracy_score(y_test, y_pred_rf))"
   ]
  },
  {
   "cell_type": "code",
   "execution_count": 225,
   "id": "august-killer",
   "metadata": {},
   "outputs": [
    {
     "data": {
      "text/plain": [
       "['models/hg_rf_42.joblib']"
      ]
     },
     "execution_count": 225,
     "metadata": {},
     "output_type": "execute_result"
    }
   ],
   "source": [
    "dump(clf_rf, 'model/hg_rf_42.joblib')  "
   ]
  },
  {
   "cell_type": "markdown",
   "id": "delayed-smell",
   "metadata": {},
   "source": [
    "## MLP"
   ]
  },
  {
   "cell_type": "code",
   "execution_count": 226,
   "id": "incorrect-highlight",
   "metadata": {},
   "outputs": [],
   "source": [
    "y_train_ohe = keras.utils.to_categorical(y_train, len(signs))\n",
    "y_test_ohe = keras.utils.to_categorical(y_test, len(signs))"
   ]
  },
  {
   "cell_type": "code",
   "execution_count": 277,
   "id": "olympic-blame",
   "metadata": {},
   "outputs": [
    {
     "name": "stdout",
     "output_type": "stream",
     "text": [
      "Model: \"sequential_33\"\n",
      "_________________________________________________________________\n",
      "Layer (type)                 Output Shape              Param #   \n",
      "=================================================================\n",
      "dense_99 (Dense)             (None, 84)                3612      \n",
      "_________________________________________________________________\n",
      "dense_100 (Dense)            (None, 56)                4760      \n",
      "_________________________________________________________________\n",
      "dense_101 (Dense)            (None, 28)                1596      \n",
      "=================================================================\n",
      "Total params: 9,968\n",
      "Trainable params: 9,968\n",
      "Non-trainable params: 0\n",
      "_________________________________________________________________\n"
     ]
    }
   ],
   "source": [
    "model = Sequential()\n",
    "model.add(Dense(units = 84, kernel_initializer = 'uniform', activation = 'relu', input_dim = 42))\n",
    "model.add(Dense(units = 56, kernel_initializer = 'uniform', activation = 'relu'))\n",
    "model.add(Dense(units = len(signs), kernel_initializer = 'uniform', activation = 'softmax'))\n",
    "model.compile(optimizer = 'adam', loss = 'categorical_crossentropy', metrics = ['accuracy'])\n",
    "model.summary()"
   ]
  },
  {
   "cell_type": "code",
   "execution_count": 278,
   "id": "rural-leather",
   "metadata": {},
   "outputs": [],
   "source": [
    "checkpoint = tf.keras.callbacks.ModelCheckpoint('model/model_hg_42.hdf5', save_best_only=True, monitor=\"val_accuracy\", mode='max', save_weights_only=False)  "
   ]
  },
  {
   "cell_type": "code",
   "execution_count": 279,
   "id": "revised-offense",
   "metadata": {},
   "outputs": [
    {
     "name": "stdout",
     "output_type": "stream",
     "text": [
      "Epoch 1/50\n",
      "1528/1528 [==============================] - 4s 3ms/step - loss: 1.9678 - accuracy: 0.3959 - val_loss: 0.8956 - val_accuracy: 0.7308\n",
      "Epoch 2/50\n",
      "1528/1528 [==============================] - 4s 3ms/step - loss: 0.7943 - accuracy: 0.7778 - val_loss: 0.5859 - val_accuracy: 0.8478\n",
      "Epoch 3/50\n",
      "1528/1528 [==============================] - 4s 3ms/step - loss: 0.5294 - accuracy: 0.8605 - val_loss: 0.4374 - val_accuracy: 0.8959\n",
      "Epoch 4/50\n",
      "1528/1528 [==============================] - 4s 3ms/step - loss: 0.4085 - accuracy: 0.8967 - val_loss: 0.3726 - val_accuracy: 0.9041\n",
      "Epoch 5/50\n",
      "1528/1528 [==============================] - 4s 3ms/step - loss: 0.3526 - accuracy: 0.9118 - val_loss: 0.3338 - val_accuracy: 0.9138\n",
      "Epoch 6/50\n",
      "1528/1528 [==============================] - 4s 3ms/step - loss: 0.3156 - accuracy: 0.9217 - val_loss: 0.3068 - val_accuracy: 0.9233\n",
      "Epoch 7/50\n",
      "1528/1528 [==============================] - 4s 3ms/step - loss: 0.2860 - accuracy: 0.9267 - val_loss: 0.2899 - val_accuracy: 0.9275\n",
      "Epoch 8/50\n",
      "1528/1528 [==============================] - 4s 3ms/step - loss: 0.2676 - accuracy: 0.9321 - val_loss: 0.2804 - val_accuracy: 0.9281\n",
      "Epoch 9/50\n",
      "1528/1528 [==============================] - 4s 3ms/step - loss: 0.2467 - accuracy: 0.9344 - val_loss: 0.2553 - val_accuracy: 0.9327\n",
      "Epoch 10/50\n",
      "1528/1528 [==============================] - 4s 3ms/step - loss: 0.2333 - accuracy: 0.9374 - val_loss: 0.2456 - val_accuracy: 0.9353\n",
      "Epoch 11/50\n",
      "1528/1528 [==============================] - 4s 3ms/step - loss: 0.2304 - accuracy: 0.9377 - val_loss: 0.2432 - val_accuracy: 0.9377\n",
      "Epoch 12/50\n",
      "1528/1528 [==============================] - 4s 3ms/step - loss: 0.2196 - accuracy: 0.9410 - val_loss: 0.2386 - val_accuracy: 0.9386\n",
      "Epoch 13/50\n",
      "1528/1528 [==============================] - 4s 3ms/step - loss: 0.2163 - accuracy: 0.9402 - val_loss: 0.2218 - val_accuracy: 0.9433\n",
      "Epoch 14/50\n",
      "1528/1528 [==============================] - 4s 3ms/step - loss: 0.1971 - accuracy: 0.9457 - val_loss: 0.2200 - val_accuracy: 0.9423\n",
      "Epoch 15/50\n",
      "1528/1528 [==============================] - 4s 3ms/step - loss: 0.1956 - accuracy: 0.9472 - val_loss: 0.2124 - val_accuracy: 0.9456\n",
      "Epoch 16/50\n",
      "1528/1528 [==============================] - 4s 3ms/step - loss: 0.1902 - accuracy: 0.9478 - val_loss: 0.2161 - val_accuracy: 0.9446\n",
      "Epoch 17/50\n",
      "1528/1528 [==============================] - 4s 3ms/step - loss: 0.1836 - accuracy: 0.9500 - val_loss: 0.2028 - val_accuracy: 0.9472\n",
      "Epoch 18/50\n",
      "1528/1528 [==============================] - 4s 3ms/step - loss: 0.1763 - accuracy: 0.9511 - val_loss: 0.1975 - val_accuracy: 0.9482\n",
      "Epoch 19/50\n",
      "1528/1528 [==============================] - 4s 3ms/step - loss: 0.1762 - accuracy: 0.9522 - val_loss: 0.2049 - val_accuracy: 0.9459\n",
      "Epoch 20/50\n",
      "1528/1528 [==============================] - 4s 3ms/step - loss: 0.1638 - accuracy: 0.9539 - val_loss: 0.1936 - val_accuracy: 0.9481\n",
      "Epoch 21/50\n",
      "1528/1528 [==============================] - 4s 3ms/step - loss: 0.1653 - accuracy: 0.9535 - val_loss: 0.2014 - val_accuracy: 0.9467\n",
      "Epoch 22/50\n",
      "1528/1528 [==============================] - 4s 3ms/step - loss: 0.1602 - accuracy: 0.9549 - val_loss: 0.1874 - val_accuracy: 0.9507\n",
      "Epoch 23/50\n",
      "1528/1528 [==============================] - 4s 3ms/step - loss: 0.1587 - accuracy: 0.9546 - val_loss: 0.1861 - val_accuracy: 0.9512\n",
      "Epoch 24/50\n",
      "1528/1528 [==============================] - 4s 3ms/step - loss: 0.1566 - accuracy: 0.9550 - val_loss: 0.1885 - val_accuracy: 0.9502\n",
      "Epoch 25/50\n",
      "1528/1528 [==============================] - 4s 3ms/step - loss: 0.1530 - accuracy: 0.9563 - val_loss: 0.1926 - val_accuracy: 0.9474\n",
      "Epoch 26/50\n",
      "1528/1528 [==============================] - 4s 3ms/step - loss: 0.1514 - accuracy: 0.9566 - val_loss: 0.1785 - val_accuracy: 0.9531\n",
      "Epoch 27/50\n",
      "1528/1528 [==============================] - 4s 3ms/step - loss: 0.1451 - accuracy: 0.9584 - val_loss: 0.1753 - val_accuracy: 0.9546\n",
      "Epoch 28/50\n",
      "1528/1528 [==============================] - 4s 3ms/step - loss: 0.1459 - accuracy: 0.9599 - val_loss: 0.1752 - val_accuracy: 0.9519\n",
      "Epoch 29/50\n",
      "1528/1528 [==============================] - 4s 3ms/step - loss: 0.1400 - accuracy: 0.9584 - val_loss: 0.1750 - val_accuracy: 0.9536\n",
      "Epoch 30/50\n",
      "1528/1528 [==============================] - 4s 3ms/step - loss: 0.1389 - accuracy: 0.9610 - val_loss: 0.1727 - val_accuracy: 0.9553\n",
      "Epoch 31/50\n",
      "1528/1528 [==============================] - 4s 3ms/step - loss: 0.1409 - accuracy: 0.9596 - val_loss: 0.1752 - val_accuracy: 0.9524\n",
      "Epoch 32/50\n",
      "1528/1528 [==============================] - 4s 3ms/step - loss: 0.1358 - accuracy: 0.9614 - val_loss: 0.1743 - val_accuracy: 0.9518\n",
      "Epoch 33/50\n",
      "1528/1528 [==============================] - 4s 3ms/step - loss: 0.1359 - accuracy: 0.9612 - val_loss: 0.1667 - val_accuracy: 0.9546\n",
      "Epoch 34/50\n",
      "1528/1528 [==============================] - 4s 3ms/step - loss: 0.1333 - accuracy: 0.9625 - val_loss: 0.1742 - val_accuracy: 0.9525\n",
      "Epoch 35/50\n",
      "1528/1528 [==============================] - 4s 3ms/step - loss: 0.1327 - accuracy: 0.9624 - val_loss: 0.1669 - val_accuracy: 0.9567\n",
      "Epoch 36/50\n",
      "1528/1528 [==============================] - 4s 3ms/step - loss: 0.1349 - accuracy: 0.9610 - val_loss: 0.1691 - val_accuracy: 0.9551\n",
      "Epoch 37/50\n",
      "1528/1528 [==============================] - 4s 3ms/step - loss: 0.1266 - accuracy: 0.9640 - val_loss: 0.1643 - val_accuracy: 0.9560\n",
      "Epoch 38/50\n",
      "1528/1528 [==============================] - 4s 3ms/step - loss: 0.1295 - accuracy: 0.9623 - val_loss: 0.1634 - val_accuracy: 0.9574\n",
      "Epoch 39/50\n",
      "1528/1528 [==============================] - 4s 3ms/step - loss: 0.1224 - accuracy: 0.9650 - val_loss: 0.1681 - val_accuracy: 0.9558\n",
      "Epoch 40/50\n",
      "1528/1528 [==============================] - 4s 3ms/step - loss: 0.1256 - accuracy: 0.9626 - val_loss: 0.1585 - val_accuracy: 0.9587\n",
      "Epoch 41/50\n",
      "1528/1528 [==============================] - 4s 3ms/step - loss: 0.1219 - accuracy: 0.9642 - val_loss: 0.1603 - val_accuracy: 0.9573\n",
      "Epoch 42/50\n",
      "1528/1528 [==============================] - 4s 3ms/step - loss: 0.1253 - accuracy: 0.9626 - val_loss: 0.1651 - val_accuracy: 0.9552\n",
      "Epoch 43/50\n",
      "1528/1528 [==============================] - 4s 3ms/step - loss: 0.1176 - accuracy: 0.9643 - val_loss: 0.1632 - val_accuracy: 0.9562\n",
      "Epoch 44/50\n",
      "1528/1528 [==============================] - 4s 3ms/step - loss: 0.1201 - accuracy: 0.9646 - val_loss: 0.1618 - val_accuracy: 0.9577\n",
      "Epoch 45/50\n",
      "1528/1528 [==============================] - 4s 3ms/step - loss: 0.1164 - accuracy: 0.9656 - val_loss: 0.1574 - val_accuracy: 0.9593\n",
      "Epoch 46/50\n",
      "1528/1528 [==============================] - 4s 3ms/step - loss: 0.1181 - accuracy: 0.9657 - val_loss: 0.1578 - val_accuracy: 0.9585\n",
      "Epoch 47/50\n",
      "1528/1528 [==============================] - 4s 3ms/step - loss: 0.1098 - accuracy: 0.9681 - val_loss: 0.1561 - val_accuracy: 0.9594\n",
      "Epoch 48/50\n",
      "1528/1528 [==============================] - 4s 3ms/step - loss: 0.1132 - accuracy: 0.9666 - val_loss: 0.1555 - val_accuracy: 0.9597\n",
      "Epoch 49/50\n",
      "1528/1528 [==============================] - 4s 3ms/step - loss: 0.1100 - accuracy: 0.9683 - val_loss: 0.1630 - val_accuracy: 0.9552\n",
      "Epoch 50/50\n",
      "1528/1528 [==============================] - 4s 3ms/step - loss: 0.1123 - accuracy: 0.9663 - val_loss: 0.1570 - val_accuracy: 0.9587\n"
     ]
    }
   ],
   "source": [
    "hist = model.fit ( X_train, y_train_ohe, validation_data=(X_test,y_test_ohe), batch_size=32, epochs=50, callbacks=[checkpoint] )"
   ]
  },
  {
   "cell_type": "code",
   "execution_count": 287,
   "id": "bound-phone",
   "metadata": {},
   "outputs": [
    {
     "name": "stdout",
     "output_type": "stream",
     "text": [
      "Model from the last epoch:\n",
      "Test loss: 0.15695339441299438\n",
      "Test accuracy: 0.9586844444274902\n",
      "Model from the best epoch:\n",
      "Test loss: 0.15315772593021393\n",
      "Test accuracy: 0.9594207406044006\n"
     ]
    }
   ],
   "source": [
    "# Evaluate the model from the last epoch\n",
    "score = model.evaluate(X_test, y_test_ohe, verbose=0)\n",
    "print('Model from the last epoch:')\n",
    "print('Test loss:', score[0])\n",
    "print('Test accuracy:', score[1])\n",
    "\n",
    "# Load and evaluate the model from the best epoch\n",
    "best_model = load_model('model/model_hg_42.hdf5', compile=True )\n",
    "score = best_model.evaluate(X_test, y_test_ohe, verbose=0)\n",
    "print('Model from the best epoch:')\n",
    "print('Test loss:', score[0])\n",
    "print('Test accuracy:', score[1])"
   ]
  },
  {
   "cell_type": "code",
   "execution_count": 288,
   "id": "round-weekend",
   "metadata": {},
   "outputs": [
    {
     "data": {
      "image/png": "[encoded data removed]",
      "text/plain": [
       "<Figure size 1080x360 with 1 Axes>"
      ]
     },
     "metadata": {
      "needs_background": "light"
     },
     "output_type": "display_data"
    }
   ],
   "source": [
    "plt.figure(figsize=(15,5))\n",
    "plt.plot(hist.history['accuracy'])\n",
    "plt.plot(hist.history['val_accuracy'])\n",
    "plt.title('Model Accuracy')\n",
    "plt.ylabel('Accuracy')\n",
    "plt.xlabel('Epoch')\n",
    "plt.legend(['Train', 'Validate'], loc='upper right')\n",
    "plt.show()"
   ]
  },
  {
   "cell_type": "markdown",
   "id": "close-pontiac",
   "metadata": {},
   "source": [
    "## Test Model Real-time"
   ]
  },
  {
   "cell_type": "code",
   "execution_count": 289,
   "id": "moving-person",
   "metadata": {},
   "outputs": [],
   "source": [
    "# For webcam input:\n",
    "mode = 1\n",
    "ml_model = load('model/hg_svm_42.joblib') #mode 0\n",
    "mlp_model = load_model('model/model_hg_42.hdf5', compile=True ) #mode 1\n",
    "cap = cv2.VideoCapture(0)\n",
    "with mp_hands.Hands(\n",
    "    min_detection_confidence=0.6,\n",
    "    max_num_hands=1,\n",
    "    min_tracking_confidence=0.6) as hands:\n",
    "    sen = ''\n",
    "    cf = []\n",
    "    while cap.isOpened():\n",
    "        success, image = cap.read()\n",
    "        if not success:\n",
    "            print(\"Ignoring empty camera frame.\")\n",
    "            # If loading a video, use 'break' instead of 'continue'.\n",
    "            continue\n",
    "\n",
    "        # Flip the image horizontally for a later selfie-view display, and convert\n",
    "        # the BGR image to RGB.\n",
    "        image = cv2.cvtColor(cv2.flip(image, 1), cv2.COLOR_BGR2RGB)\n",
    "        # To improve performance, optionally mark the image as not writeable to\n",
    "        # pass by reference.\n",
    "        image.flags.writeable = False\n",
    "        results = hands.process(image)\n",
    "\n",
    "        # Draw the hand annotations on the image.\n",
    "        image.flags.writeable = True\n",
    "        image = cv2.cvtColor(image, cv2.COLOR_RGB2BGR)\n",
    "\n",
    "        if results.multi_hand_landmarks:           \n",
    "            mp_drawing.draw_landmarks(image, results.multi_hand_landmarks[0], mp_hands.HAND_CONNECTIONS)            \n",
    "            pre_processed_landmark_list  = pre_process_landmark(get_landmark_list(results.multi_hand_landmarks[0]))\n",
    "            #For Traditional ML\n",
    "            if mode == 0:\n",
    "                prediction = ml_model.predict([pre_processed_landmark_list])\n",
    "                result = signs[prediction[0]]\n",
    "            #For MLP\n",
    "            elif mode == 1:   \n",
    "                prediction = mlp_model.predict([pre_processed_landmark_list])\n",
    "                maxindex = int(np.argmax(prediction))\n",
    "                result = signs[maxindex]\n",
    "            if not cf:\n",
    "                cf.append(result)\n",
    "            elif result in cf:\n",
    "                cf.append(result)\n",
    "            elif result not in cf:\n",
    "                cf.clear()\n",
    "            if len(cf) > 50:\n",
    "                if 'del' in cf:\n",
    "                    if sen:\n",
    "                        sen = sen[:-1]\n",
    "                elif 'space'  in cf:\n",
    "                    sen += ' '\n",
    "                else:\n",
    "                    sen += result   \n",
    "                cf.clear()\n",
    "                image = cv2.putText(image, 'Confirmed', \n",
    "                                (280, 50), cv2.FONT_HERSHEY_SIMPLEX, 1, \n",
    "                                (0, 255, 0),2,cv2.LINE_AA)\n",
    "            image = cv2.putText(image, 'Prediction: '+ result, \n",
    "                                (10, 50), cv2.FONT_HERSHEY_SIMPLEX, 1, \n",
    "                                (0, 0, 255),2,cv2.LINE_AA)\n",
    "        image = cv2.putText(image, 'Result: '+ sen, \n",
    "                            (10, 80), cv2.FONT_HERSHEY_SIMPLEX, 1, \n",
    "                            (0, 0, 255),2,cv2.LINE_AA)\n",
    "        cv2.imshow('MediaPipe Hands', image)       \n",
    "        if (cv2.waitKey(1)== 27):\n",
    "            break\n",
    "cv2.destroyAllWindows()     # close all OpenCV windows\n",
    "if cap.isOpened():\n",
    "    cap.release()  "
   ]
  }
 ],
 "metadata": {
  "kernelspec": {
   "display_name": "Python 3 (ipykernel)",
   "language": "python",
   "name": "python3"
  },
  "language_info": {
   "codemirror_mode": {
    "name": "ipython",
    "version": 3
   },
   "file_extension": ".py",
   "mimetype": "text/x-python",
   "name": "python",
   "nbconvert_exporter": "python",
   "pygments_lexer": "ipython3",
   "version": "3.7.3"
  }
 },
 "nbformat": 4,
 "nbformat_minor": 5
}
