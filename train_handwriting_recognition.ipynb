{
 "cells": [
  {
   "cell_type": "code",
   "execution_count": 22,
   "id": "07c206e0",
   "metadata": {},
   "outputs": [],
   "source": [
    "from keras.models import Sequential, load_model\n",
    "from keras.layers import Dense, Dropout, Flatten\n",
    "from keras.layers import Conv2D, MaxPooling2D, BatchNormalization\n",
    "from keras.preprocessing.image import ImageDataGenerator\n",
    "from keras.callbacks import ModelCheckpoint\n",
    "import numpy as np\n",
    "from mnist import MNIST\n",
    "from sklearn.model_selection import train_test_split\n",
    "from matplotlib.colors import ListedColormap\n",
    "import seaborn as sns\n",
    "import matplotlib.pyplot as plt\n",
    "%matplotlib inline"
   ]
  },
  {
   "cell_type": "code",
   "execution_count": 26,
   "id": "bdc144fb",
   "metadata": {},
   "outputs": [],
   "source": [
    "emnist_data = MNIST(path='data/', return_type='numpy')\n",
    "emnist_data.select_emnist('letters')\n",
    "x, y = emnist_data.load_training()"
   ]
  },
  {
   "cell_type": "code",
   "execution_count": 27,
   "id": "fe4a222f",
   "metadata": {},
   "outputs": [
    {
     "name": "stdout",
     "output_type": "stream",
     "text": [
      "(124800, 784)\n",
      "(124800,)\n"
     ]
    }
   ],
   "source": [
    "print(x.shape)\n",
    "print(y.shape)"
   ]
  },
  {
   "cell_type": "code",
   "execution_count": 28,
   "id": "a33f5203",
   "metadata": {},
   "outputs": [],
   "source": [
    "x = x.reshape(124800, 28, 28, 1)\n",
    "#y = y.reshape(124800, 1)"
   ]
  },
  {
   "cell_type": "code",
   "execution_count": 29,
   "id": "0cd59340",
   "metadata": {},
   "outputs": [
    {
     "data": {
      "text/plain": [
       "array([ 1,  2,  3,  4,  5,  6,  7,  8,  9, 10, 11, 12, 13, 14, 15, 16, 17,\n",
       "       18, 19, 20, 21, 22, 23, 24, 25, 26], dtype=uint8)"
      ]
     },
     "execution_count": 29,
     "metadata": {},
     "output_type": "execute_result"
    }
   ],
   "source": [
    "np.unique(y)"
   ]
  },
  {
   "cell_type": "code",
   "execution_count": 30,
   "id": "68bbcdec",
   "metadata": {},
   "outputs": [
    {
     "name": "stdout",
     "output_type": "stream",
     "text": [
      "[ 0  1  2  3  4  5  6  7  8  9 10 11 12 13 14 15 16 17 18 19 20 21 22 23\n",
      " 24 25]\n"
     ]
    }
   ],
   "source": [
    "y = y-1\n",
    "print(np.unique(y))"
   ]
  },
  {
   "cell_type": "code",
   "execution_count": 31,
   "id": "c15d5e4f",
   "metadata": {},
   "outputs": [],
   "source": [
    "x_train, x_test, y_train, y_test = train_test_split(x, y, test_size=0.2, random_state=1)"
   ]
  },
  {
   "cell_type": "code",
   "execution_count": 32,
   "id": "d7fe84cf",
   "metadata": {},
   "outputs": [
    {
     "name": "stdout",
     "output_type": "stream",
     "text": [
      "(99840, 28, 28, 1)\n",
      "(24960, 28, 28, 1)\n"
     ]
    }
   ],
   "source": [
    "print(x_train.shape)\n",
    "print(x_test.shape)"
   ]
  },
  {
   "cell_type": "code",
   "execution_count": 33,
   "id": "81caf72d",
   "metadata": {},
   "outputs": [],
   "source": [
    "data_generator = ImageDataGenerator(rescale=1./255)"
   ]
  },
  {
   "cell_type": "code",
   "execution_count": 50,
   "id": "edc19b0b",
   "metadata": {},
   "outputs": [],
   "source": [
    "batch_size = 32\n",
    "num_classes = 26"
   ]
  },
  {
   "cell_type": "code",
   "execution_count": 51,
   "id": "9753b654",
   "metadata": {},
   "outputs": [],
   "source": [
    "train_set = data_generator.flow(x_train, y_train, batch_size)\n",
    "test_set = data_generator.flow(x_test, y_test, batch_size)"
   ]
  },
  {
   "cell_type": "code",
   "execution_count": 52,
   "id": "6dc24703",
   "metadata": {},
   "outputs": [],
   "source": [
    "model = Sequential()\n",
    "model.add(Conv2D(64, kernel_size=(3, 3), activation='relu', input_shape=(28, 28, 1) ))\n",
    "model.add(Conv2D(64, (3, 3), activation='relu'))\n",
    "model.add(BatchNormalization())\n",
    "model.add(MaxPooling2D(pool_size=(2, 2)))\n",
    "\n",
    "model.add(Conv2D(128, (3, 3), activation='relu'))\n",
    "model.add(Conv2D(128, (3, 3), activation='relu'))\n",
    "model.add(BatchNormalization())\n",
    "model.add(MaxPooling2D(pool_size=(2, 2)))\n",
    "\n",
    "# model.add(Conv2D(256, (3, 3), activation='relu'))\n",
    "# model.add(BatchNormalization())\n",
    "# model.add(MaxPooling2D(pool_size=(2, 2)))\n",
    "\n",
    "model.add(Flatten())\n",
    "model.add(Dense(256, activation='relu'))\n",
    "model.add(Dropout(0.25))\n",
    "model.add(Dense(num_classes, activation='softmax'))"
   ]
  },
  {
   "cell_type": "code",
   "execution_count": 53,
   "id": "b2414bd4",
   "metadata": {},
   "outputs": [],
   "source": [
    "model.compile(optimizer='adam', loss='sparse_categorical_crossentropy', metrics=['accuracy'])"
   ]
  },
  {
   "cell_type": "code",
   "execution_count": 54,
   "id": "61bbbc0b",
   "metadata": {},
   "outputs": [],
   "source": [
    "checkpoint = ModelCheckpoint('model/handwriting_bestmodel.hdf5', save_best_only=True, monitor=\"val_accuracy\", mode='max', save_weights_only=False)  "
   ]
  },
  {
   "cell_type": "code",
   "execution_count": 55,
   "id": "6942e22b",
   "metadata": {},
   "outputs": [
    {
     "name": "stdout",
     "output_type": "stream",
     "text": [
      "Epoch 1/10\n",
      "3120/3120 [==============================] - 23s 7ms/step - loss: 0.6767 - accuracy: 0.7997 - val_loss: 0.2265 - val_accuracy: 0.9283\n",
      "Epoch 2/10\n",
      "3120/3120 [==============================] - 22s 7ms/step - loss: 0.2412 - accuracy: 0.9197 - val_loss: 0.2304 - val_accuracy: 0.9270\n",
      "Epoch 3/10\n",
      "3120/3120 [==============================] - 22s 7ms/step - loss: 0.2017 - accuracy: 0.9323 - val_loss: 0.2055 - val_accuracy: 0.9334\n",
      "Epoch 4/10\n",
      "3120/3120 [==============================] - 22s 7ms/step - loss: 0.1733 - accuracy: 0.9389 - val_loss: 0.1918 - val_accuracy: 0.93970.1732 - accuracy: 0. - ETA: 0s - loss: 0.1732 - \n",
      "Epoch 5/10\n",
      "3120/3120 [==============================] - 22s 7ms/step - loss: 0.1534 - accuracy: 0.9463 - val_loss: 0.1951 - val_accuracy: 0.9399\n",
      "Epoch 6/10\n",
      "3120/3120 [==============================] - 22s 7ms/step - loss: 0.1393 - accuracy: 0.9504 - val_loss: 0.1865 - val_accuracy: 0.9438\n",
      "Epoch 7/10\n",
      "3120/3120 [==============================] - 22s 7ms/step - loss: 0.1235 - accuracy: 0.9534 - val_loss: 0.1803 - val_accuracy: 0.9451\n",
      "Epoch 8/10\n",
      "3120/3120 [==============================] - 23s 7ms/step - loss: 0.1172 - accuracy: 0.9559 - val_loss: 0.1802 - val_accuracy: 0.9462\n",
      "Epoch 9/10\n",
      "3120/3120 [==============================] - 24s 8ms/step - loss: 0.1063 - accuracy: 0.9591 - val_loss: 0.1841 - val_accuracy: 0.9448\n",
      "Epoch 10/10\n",
      "3120/3120 [==============================] - 23s 7ms/step - loss: 0.1003 - accuracy: 0.9602 - val_loss: 0.1997 - val_accuracy: 0.9449\n"
     ]
    }
   ],
   "source": [
    "hist= model.fit(train_set,\n",
    "        epochs = 10,\n",
    "        validation_data = test_set,\n",
    "        callbacks=[checkpoint])"
   ]
  },
  {
   "cell_type": "code",
   "execution_count": 56,
   "id": "48712aec",
   "metadata": {},
   "outputs": [
    {
     "name": "stdout",
     "output_type": "stream",
     "text": [
      "Test results (model from the last epoch): [('loss', 0.1997484415769577), ('accuracy', 0.9448717832565308)]\n",
      "Test results (model from the best epoch): [('loss', 0.1802448183298111), ('accuracy', 0.9461939334869385)]\n"
     ]
    }
   ],
   "source": [
    "# Evaluate the model from the last epoch\n",
    "score = model.evaluate(test_set, verbose=0 )\n",
    "print( \"Test results (model from the last epoch):\", [ (model.metrics_names[i], score[i]) for i in range(len(score)) ] )\n",
    "\n",
    "# Load and evaluate the model from the best epoch\n",
    "best_model = load_model('model/handwriting_bestmodel.hdf5', compile=True )\n",
    "score = best_model.evaluate(test_set, verbose=0 )\n",
    "print( \"Test results (model from the best epoch):\", [ (best_model.metrics_names[i], score[i]) for i in range(len(score)) ] )"
   ]
  },
  {
   "cell_type": "code",
   "execution_count": 57,
   "id": "6632eb07",
   "metadata": {},
   "outputs": [
    {
     "data": {
      "image/png": "[encoded data removed]",
      "text/plain": [
       "<Figure size 432x288 with 1 Axes>"
      ]
     },
     "metadata": {
      "needs_background": "light"
     },
     "output_type": "display_data"
    }
   ],
   "source": [
    "# loss\n",
    "plt.plot(hist.history['loss'], label='train loss')\n",
    "plt.plot(hist.history['val_loss'], label='val loss')\n",
    "plt.title('Model loss')\n",
    "plt.legend()\n",
    "plt.show()"
   ]
  },
  {
   "cell_type": "code",
   "execution_count": 58,
   "id": "b0da229e",
   "metadata": {},
   "outputs": [
    {
     "data": {
      "image/png": "[encoded data removed]",
      "text/plain": [
       "<Figure size 432x288 with 1 Axes>"
      ]
     },
     "metadata": {
      "needs_background": "light"
     },
     "output_type": "display_data"
    }
   ],
   "source": [
    "# accuracies\n",
    "plt.plot(hist.history['accuracy'], label='train acc')\n",
    "plt.plot(hist.history['val_accuracy'], label='val acc')\n",
    "plt.title('Model Accuracy')\n",
    "plt.legend()\n",
    "plt.show()"
   ]
  }
 ],
 "metadata": {
  "kernelspec": {
   "display_name": "Python 3 (ipykernel)",
   "language": "python",
   "name": "python3"
  },
  "language_info": {
   "codemirror_mode": {
    "name": "ipython",
    "version": 3
   },
   "file_extension": ".py",
   "mimetype": "text/x-python",
   "name": "python",
   "nbconvert_exporter": "python",
   "pygments_lexer": "ipython3",
   "version": "3.7.3"
  }
 },
 "nbformat": 4,
 "nbformat_minor": 5
}
